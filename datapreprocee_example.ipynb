{
 "cells": [
  {
   "cell_type": "code",
   "execution_count": null,
   "metadata": {},
   "outputs": [],
   "source": [
    "import pandas as pd"
   ]
  },
  {
   "cell_type": "code",
   "execution_count": null,
   "metadata": {},
   "outputs": [],
   "source": [
    "inter_pd = pd.read_table('your dataset path')"
   ]
  },
  {
   "attachments": {},
   "cell_type": "markdown",
   "metadata": {},
   "source": [
    "## rating filter"
   ]
  },
  {
   "cell_type": "code",
   "execution_count": null,
   "metadata": {},
   "outputs": [],
   "source": [
    "inter_pd = inter_pd[inter_pd[\"rating:float\"]>=4]"
   ]
  },
  {
   "attachments": {},
   "cell_type": "markdown",
   "metadata": {},
   "source": [
    "## interaction number filter"
   ]
  },
  {
   "cell_type": "code",
   "execution_count": null,
   "metadata": {},
   "outputs": [],
   "source": [
    "user_counts = inter_pd.loc[:,'user_id:token'].value_counts()\n",
    "item_counts = inter_pd.loc[:,'item_id:token'].value_counts()"
   ]
  },
  {
   "cell_type": "code",
   "execution_count": null,
   "metadata": {},
   "outputs": [],
   "source": [
    "user_num = len(user_counts)\n",
    "item_num = len(item_counts)"
   ]
  },
  {
   "cell_type": "code",
   "execution_count": null,
   "metadata": {},
   "outputs": [],
   "source": [
    "while (1):\n",
    "    user_counts = inter_pd.loc[:,'user_id:token'].value_counts()\n",
    "    item_counts = inter_pd.loc[:,'item_id:token'].value_counts()\n",
    "    drop_user_list = list(user_counts[user_counts<10].index)\n",
    "    drop_item_list = list(item_counts[item_counts<10].index)\n",
    "    user_inter_pd = inter_pd.loc[inter_pd.loc[:, 'user_id:token'].isin(drop_user_list),:]\n",
    "    inter_pd = inter_pd.drop(index = user_inter_pd.index)\n",
    "    item_inter_pd = inter_pd.loc[inter_pd.loc[:, 'item_id:token'].isin(drop_item_list),:]\n",
    "    inter_pd = inter_pd.drop(index=item_inter_pd.index)\n",
    "    u_n = len(set(inter_pd.loc[:,'user_id:token']))\n",
    "    i_n = len(set(inter_pd.loc[:,'item_id:token']))\n",
    "    if u_n == user_num and i_n == item_num:\n",
    "        break\n",
    "    else:\n",
    "        user_num = u_n\n",
    "        item_num = i_n"
   ]
  },
  {
   "attachments": {},
   "cell_type": "markdown",
   "metadata": {},
   "source": [
    "## save result"
   ]
  },
  {
   "cell_type": "code",
   "execution_count": null,
   "metadata": {},
   "outputs": [],
   "source": [
    "inter_pd.to_csv('save path', sep='\\t', index=False)"
   ]
  }
 ],
 "metadata": {
  "language_info": {
   "name": "python"
  },
  "orig_nbformat": 4
 },
 "nbformat": 4,
 "nbformat_minor": 2
}
